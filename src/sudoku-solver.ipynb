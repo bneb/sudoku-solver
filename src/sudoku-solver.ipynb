{
 "cells": [
  {
   "cell_type": "code",
   "execution_count": 1,
   "id": "5b8ac0b9-a30c-458d-99a0-f20adc083e9f",
   "metadata": {},
   "outputs": [],
   "source": [
    "from solver import *"
   ]
  },
  {
   "cell_type": "markdown",
   "id": "79057c52-bef5-4a57-a0ca-993837841cd8",
   "metadata": {},
   "source": [
    "### Generate a sudoku game"
   ]
  },
  {
   "cell_type": "code",
   "execution_count": 3,
   "id": "105956ad-c0dc-453b-96ee-29eadaf073e4",
   "metadata": {},
   "outputs": [
    {
     "name": "stdout",
     "output_type": "stream",
     "text": [
      " 3  8  2 | 6  5  4 | 1  7  9 \n",
      " 9  7  4 | 3  2  1 | 6  8  5 \n",
      " 5  6  1 | 9  7  8 | 4  2  3 \n",
      "---------+---------+---------\n",
      " 7  4  8 | 1  9  3 | 2  5  6 \n",
      " 2  9  6 | 4  8  5 | 7  3  1 \n",
      " 1  3  5 | 7  6  2 | 8  9  4 \n",
      "---------+---------+---------\n",
      " 6  2  7 | 5  4  9 | 3  1  8 \n",
      " 4  5  3 | 8  1  7 | 9  6  2 \n",
      " 8  1  9 | 2  3  6 | 5  4  7 \n",
      "\n"
     ]
    }
   ],
   "source": [
    "solution = full_grid()\n",
    "show(solution)"
   ]
  },
  {
   "cell_type": "code",
   "execution_count": 4,
   "id": "694999e8-dfe6-4e61-b659-84eaf58c02df",
   "metadata": {},
   "outputs": [
    {
     "name": "stdout",
     "output_type": "stream",
     "text": [
      " 3  8  _ | _  _  _ | _  7  _ \n",
      " _  _  4 | _  2  _ | _  _  _ \n",
      " _  _  _ | _  _  _ | _  _  3 \n",
      "---------+---------+---------\n",
      " _  4  _ | _  9  _ | _  _  _ \n",
      " 2  9  _ | _  8  _ | _  _  _ \n",
      " _  3  _ | _  _  _ | 8  _  4 \n",
      "---------+---------+---------\n",
      " _  _  _ | _  _  9 | _  _  _ \n",
      " _  _  _ | 8  _  _ | 9  _  _ \n",
      " _  _  9 | _  _  _ | _  _  _ \n",
      "\n"
     ]
    }
   ],
   "source": [
    "grid = new_partial_grid(18, solution)\n",
    "show(grid)"
   ]
  },
  {
   "cell_type": "markdown",
   "id": "7931f3e6-6f5d-4b35-b8d1-228e148fc34d",
   "metadata": {},
   "source": [
    "### Solve\n",
    "Confusingly enough, both generating and solving the puzzle make use of `fill_grid` which recursively searches and backtracks."
   ]
  },
  {
   "cell_type": "code",
   "execution_count": 6,
   "id": "dc4d9b5a-948c-48b5-b121-20b9bb8fbc1b",
   "metadata": {},
   "outputs": [
    {
     "name": "stdout",
     "output_type": "stream",
     "text": [
      " 3  8  2 | 1  5  4 | 6  7  9 \n",
      " 9  6  4 | 3  2  7 | 1  5  8 \n",
      " 5  7  1 | 9  6  8 | 4  2  3 \n",
      "---------+---------+---------\n",
      " 7  4  8 | 6  9  3 | 5  1  2 \n",
      " 2  9  5 | 4  8  1 | 3  6  7 \n",
      " 1  3  6 | 5  7  2 | 8  9  4 \n",
      "---------+---------+---------\n",
      " 6  5  3 | 2  4  9 | 7  8  1 \n",
      " 4  2  7 | 8  1  5 | 9  3  6 \n",
      " 8  1  9 | 7  3  6 | 2  4  5 \n",
      "\n"
     ]
    }
   ],
   "source": [
    "full_grid(grid)\n",
    "show(grid)"
   ]
  },
  {
   "cell_type": "markdown",
   "id": "aad3dd0c-38af-4297-9028-51dcf0757ee0",
   "metadata": {},
   "source": [
    "### Check"
   ]
  },
  {
   "cell_type": "code",
   "execution_count": 7,
   "id": "c67baf34-e9e8-4c92-ae41-a416d9b979c5",
   "metadata": {},
   "outputs": [
    {
     "data": {
      "text/plain": [
       "True"
      ]
     },
     "execution_count": 7,
     "metadata": {},
     "output_type": "execute_result"
    }
   ],
   "source": [
    "validate_grid(grid)"
   ]
  },
  {
   "cell_type": "code",
   "execution_count": null,
   "id": "bf35fbfe-68bf-44de-b0d1-2e5062cf0d31",
   "metadata": {},
   "outputs": [],
   "source": []
  }
 ],
 "metadata": {
  "kernelspec": {
   "display_name": "Python 3 (ipykernel)",
   "language": "python",
   "name": "python3"
  },
  "language_info": {
   "codemirror_mode": {
    "name": "ipython",
    "version": 3
   },
   "file_extension": ".py",
   "mimetype": "text/x-python",
   "name": "python",
   "nbconvert_exporter": "python",
   "pygments_lexer": "ipython3",
   "version": "3.11.3"
  }
 },
 "nbformat": 4,
 "nbformat_minor": 5
}
